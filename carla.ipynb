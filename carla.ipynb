{
 "cells": [
  {
   "attachments": {},
   "cell_type": "markdown",
   "metadata": {},
   "source": [
    "# Datasets"
   ]
  },
  {
   "cell_type": "code",
   "execution_count": 42,
   "metadata": {},
   "outputs": [],
   "source": [
    "import os \n",
    "from glob import glob\n",
    "import pickle\n",
    "import time\n",
    "import numpy as np\n",
    "from tqdm.notebook import tqdm\n",
    "# from tqdm import tqdm\n"
   ]
  },
  {
   "cell_type": "code",
   "execution_count": 8,
   "metadata": {},
   "outputs": [
    {
     "data": {
      "text/plain": [
       "['./carla_data/carla-town10hd_opt-224x224-fov90-3k-2023-05-15-00-34-43',\n",
       " './carla_data/test']"
      ]
     },
     "execution_count": 8,
     "metadata": {},
     "output_type": "execute_result"
    }
   ],
   "source": [
    "glob(\"./carla_data/*\")"
   ]
  },
  {
   "cell_type": "code",
   "execution_count": 31,
   "metadata": {},
   "outputs": [],
   "source": [
    "import os \n",
    "from glob import glob\n",
    "import pickle\n",
    "import time\n",
    "import numpy as np\n",
    "# from tqdm.notebook import tqdm\n",
    "# from tqdm import tqdm\n",
    "\n",
    "\n",
    "def get_creation_time(file_path):\n",
    "    stat = os.stat(file_path)\n",
    "    creation_time = stat.st_ctime\n",
    "    return creation_time\n",
    "\n",
    "def get_latest_version():\n",
    "    datasets = glob(\"./carla_data/*\")\n",
    "    latest_version = np.argmax([ get_creation_time(file_path) for file_path in datasets])\n",
    "    return datasets[latest_version]\n",
    "\n",
    "\n",
    "trajectories = glob(f\"{get_latest_version()}/*.pkl\")\n",
    "\n",
    "\n",
    "dataset = []\n",
    "\n",
    "for trajectory in trajectories:\n",
    "\n",
    "    with open(trajectory, mode = \"rb\") as f:\n",
    "        traj = pickle.load(f)\n",
    "\n",
    "    obs = traj['observations']['sensor']\n",
    "    actions = traj['actions']\n",
    "    dataset.append(\n",
    "        dict(\n",
    "            obs = obs,\n",
    "            actions = actions\n",
    "        )\n",
    "    )\n",
    "\n",
    "with open(\"./LVD/data/carla/carla_dataset.pkl\", mode = \"wb\") as f:\n",
    "    pickle.dump(dataset, f)\n"
   ]
  },
  {
   "cell_type": "code",
   "execution_count": 48,
   "metadata": {},
   "outputs": [],
   "source": [
    "trajectories = glob(f\"{get_latest_version()}/*.pkl\")\n"
   ]
  },
  {
   "cell_type": "code",
   "execution_count": 49,
   "metadata": {},
   "outputs": [
    {
     "data": {
      "text/plain": [
       "841"
      ]
     },
     "execution_count": 49,
     "metadata": {},
     "output_type": "execute_result"
    }
   ],
   "source": [
    "len(trajectories)"
   ]
  },
  {
   "cell_type": "code",
   "execution_count": null,
   "metadata": {},
   "outputs": [],
   "source": []
  }
 ],
 "metadata": {
  "kernelspec": {
   "display_name": "skill",
   "language": "python",
   "name": "python3"
  },
  "language_info": {
   "codemirror_mode": {
    "name": "ipython",
    "version": 3
   },
   "file_extension": ".py",
   "mimetype": "text/x-python",
   "name": "python",
   "nbconvert_exporter": "python",
   "pygments_lexer": "ipython3",
   "version": "3.7.15"
  },
  "orig_nbformat": 4
 },
 "nbformat": 4,
 "nbformat_minor": 2
}
